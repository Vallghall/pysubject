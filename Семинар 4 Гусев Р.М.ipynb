{
 "cells": [
  {
   "cell_type": "markdown",
   "metadata": {},
   "source": [
    "## Семинар 4 по темам: кортежи и словари"
   ]
  },
  {
   "cell_type": "markdown",
   "metadata": {},
   "source": [
    "### Задача 1\n",
    "\n",
    "Дан словарь с названиями разных рептилий:"
   ]
  },
  {
   "cell_type": "code",
   "execution_count": 21,
   "metadata": {},
   "outputs": [],
   "source": [
    "rept = {\"python\" : \" питон\", \n",
    "        \"anaconda\" : \"анаконда\", \n",
    "        \"tortoize\" : \" черепаха\" }"
   ]
  },
  {
   "cell_type": "markdown",
   "metadata": {},
   "source": [
    "* Добавьте в словарь пару \"snake\" - \" змея\".\n",
    "* Исправьте ключ \"tortoize\" на правильный \"tortoise\".\n",
    "* Выведите на экран сообщения вида\n",
    "\n",
    "    Питон по-английски будет python.\n",
    "\n",
    "для всех слов в словаре (сообщение для каждого слова ‒ с новой строчки)."
   ]
  },
  {
   "cell_type": "code",
   "execution_count": 22,
   "outputs": [
    {
     "name": "stdout",
     "output_type": "stream",
     "text": [
      "{'python': ' питон', 'anaconda': 'анаконда', 'tortoise': ' черепаха'}\n"
     ]
    }
   ],
   "source": [
    "rept.setdefault(\"tortoise\", rept.pop(\"tortoize\"))\n",
    "print(rept)"
   ],
   "metadata": {
    "collapsed": false
   }
  },
  {
   "cell_type": "markdown",
   "metadata": {},
   "source": [
    "### Задача 2\n",
    "\n",
    "В списке `cnt` хранятся названия стран, а в списке `fh` – значения индекса Freedom House  для этих стран. Создайте словарь, используя в качестве ключей названия стран, а в качестве значений –  значения индекса."
   ]
  },
  {
   "cell_type": "code",
   "execution_count": 23,
   "metadata": {},
   "outputs": [
    {
     "name": "stdout",
     "output_type": "stream",
     "text": [
      "{'Andorra': 1.0, 'Belarus': 6.0, 'Denmark': 1.0, 'Kenya': 4.0, 'Jamaica': 2.5}\n"
     ]
    }
   ],
   "source": [
    "cnt = [\"Andorra\", \"Belarus\", \"Denmark\", \n",
    "       \"Kenya\", \"Jamaica\", \"Romania\"]\n",
    "fh = [1.0, 6.0, 1.0, 4.0, 2.5, 2.0]\n",
    "\n",
    "freedomHouse = {}\n",
    "for i in range(0, len(cnt) - 1):\n",
    "    freedomHouse.setdefault(cnt[i], fh[i])\n",
    "\n",
    "print(freedomHouse)"
   ]
  },
  {
   "cell_type": "markdown",
   "metadata": {},
   "source": [
    "### Задача 3\n",
    "\n",
    "Дан список, состоящий из пар чисел:"
   ]
  },
  {
   "cell_type": "code",
   "execution_count": 24,
   "metadata": {},
   "outputs": [
    {
     "name": "stdout",
     "output_type": "stream",
     "text": [
      "{(2, 4): 8, (4, 6): 24, (0, 1): 0, (5, 2): 10, (9, 1): 9, (3, 8): 24}\n"
     ]
    }
   ],
   "source": [
    "pairs = [(2, 4), (4, 6), (0, 1), (5, 2), (9, 1), (3, 8)]\n",
    "calc = {}\n",
    "\n",
    "for p in pairs:\n",
    "    calc.setdefault(p, p[0] * p[1])\n",
    "\n",
    "print(calc)"
   ]
  },
  {
   "cell_type": "markdown",
   "metadata": {},
   "source": [
    "Создайте словарь `calc`, где ключами являются пары чисел, а значениями – их произведение (произведение тоже должно считаться в Python, не в уме)."
   ]
  },
  {
   "cell_type": "markdown",
   "metadata": {},
   "source": [
    "### Задача 4\n",
    "\n",
    "Дан словарь `grades` с оценками студентов за контрольную работу в 5-балльной шкале. Напишите код, который сделает следующее: \n",
    "\n",
    "* Выведет на экран имя каждого студента и его оценку (каждый студент – с новой строки).\n",
    "* Сохранит имена студентов, получивших отличные оценки, в список `excel`.\n",
    "* Сохранит имена студентов, получивших хорошие оценки, в список `good`.\n",
    "* Сохранит имена студентов, получивших удовлетворительные оценки, в список `satisf`.\n",
    "* Сохранит имена студентов, получивших плохие оценки, в список `bad`. "
   ]
  },
  {
   "cell_type": "code",
   "execution_count": 25,
   "metadata": {},
   "outputs": [
    {
     "name": "stdout",
     "output_type": "stream",
     "text": [
      "student: Anna - 4\n",
      "student: Bob - 3\n",
      "student: Claire - 5\n",
      "student: Dick - 2\n",
      "student: Elena - 5\n",
      "student: Fred - 5\n",
      "student: George - 4\n",
      "student: Kristina - 3\n",
      "student: Nick - 2\n",
      "student: Ursula - 4\n",
      "student: Viktor - 5\n",
      "\n",
      "excellent: {'Claire': 5, 'Elena': 5, 'Fred': 5, 'Viktor': 5}\n",
      "good: {'Anna': 4, 'George': 4, 'Ursula': 4}\n",
      "satisfactory: {'Bob': 3, 'Kristina': 3}\n",
      "bad: {'Dick': 2, 'Nick': 2}\n",
      "\n"
     ]
    }
   ],
   "source": [
    "grades = {'Anna': 4, 'Bob': 3, 'Claire': 5, 'Dick': 2, 'Elena': 5, \n",
    "         'Fred': 5, 'George': 4, 'Kristina': 3, 'Nick': 2, \n",
    "         'Ursula': 4, 'Viktor': 5}\n",
    "\n",
    "excel, good, satisf, bad = {}, {}, {}, {}\n",
    "def set_key(name_: str, grade_: int):\n",
    "    if grade_ == 5:\n",
    "        excel.setdefault(name_, grade_)\n",
    "        return\n",
    "    elif grade_ == 4:\n",
    "        good.setdefault(name_, grade_)\n",
    "        return\n",
    "    elif grade_ == 3:\n",
    "        satisf.setdefault(name_, grade_)\n",
    "        return\n",
    "    bad.setdefault(name_, grade_)\n",
    "\n",
    "\n",
    "for name, grade in grades.items():\n",
    "    print(f\"student: {name} - {grade}\")\n",
    "    set_key(name, grade)\n",
    "\n",
    "print(f\"\\nexcellent: {excel}\\ngood: {good}\\nsatisfactory: {satisf}\\nbad: {bad}\\n\")"
   ]
  }
 ],
 "metadata": {
  "kernelspec": {
   "display_name": "Python 3",
   "language": "python",
   "name": "python3"
  },
  "language_info": {
   "codemirror_mode": {
    "name": "ipython",
    "version": 3
   },
   "file_extension": ".py",
   "mimetype": "text/x-python",
   "name": "python",
   "nbconvert_exporter": "python",
   "pygments_lexer": "ipython3",
   "version": "3.7.6"
  }
 },
 "nbformat": 4,
 "nbformat_minor": 2
}
