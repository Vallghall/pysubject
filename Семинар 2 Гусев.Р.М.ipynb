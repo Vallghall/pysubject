{
 "cells": [
  {
   "cell_type": "markdown",
   "metadata": {},
   "source": [
    "## Семинар 2"
   ]
  },
  {
   "cell_type": "markdown",
   "metadata": {},
   "source": [
    "### Задача 1\n",
    "\n",
    "Напишите программу, которая запрашивает у пользователя его фамилию, имя, отчество, введенные в одну строчку через пробел, и выводит на экран сообщения:\n",
    "\n",
    "    Ваша фамилия: фамилия\n",
    "    Ваше имя: имя\n",
    "    Ваше отчество: отчество\n",
    "\n",
    "**Пример:**\n",
    "\n",
    "*Входные данные:*\n",
    "\n",
    "    Введите Ваши ФИО: Иванов Иван Иванович\n",
    "\n",
    "*Выходные данные:*\n",
    "\n",
    "    Ваша фамилия: Иванов\n",
    "    Ваше имя: Иван\n",
    "    Ваше отчество: Иванович"
   ]
  },
  {
   "cell_type": "code",
   "execution_count": 1,
   "outputs": [
    {
     "name": "stdout",
     "output_type": "stream",
     "text": [
      "Ваша фамилия: Гусев\n",
      "Ваше имя:Роман\n",
      "Ваше отчество:Михайлович\n",
      "\n"
     ]
    }
   ],
   "source": [
    "creds = input(\"Введите Ваши ФИО через пробел\").split(\" \")\n",
    "print(f\"Ваша фамилия: {creds[0]}\\nВаше имя:{creds[1]}\\nВаше отчество:{creds[2]}\\n\")"
   ],
   "metadata": {
    "collapsed": false
   }
  },
  {
   "cell_type": "markdown",
   "metadata": {},
   "source": [
    "### Задача 2\n",
    "\n",
    "Напишите программу, которая берет строку \"1; 2; 3; 100\" и возвращает:\n",
    "\n",
    "* список из целых чисел\n",
    "* список из чисел с плавающей точкой"
   ]
  },
  {
   "cell_type": "code",
   "execution_count": 2,
   "outputs": [
    {
     "name": "stdout",
     "output_type": "stream",
     "text": [
      "[1, 2, 3, 100]\n",
      "[1.0, 2.0, 3.0, 100.0]\n"
     ]
    }
   ],
   "source": [
    "ints, floats = [], []\n",
    "for i in \"1; 2; 3; 100\".split(\";\"):\n",
    "    ints.append(int(i))\n",
    "    floats.append((float(i)))\n",
    "print(f\"{ints}\\n{floats}\")"
   ],
   "metadata": {
    "collapsed": false
   }
  },
  {
   "cell_type": "markdown",
   "metadata": {},
   "source": [
    "### Задача 3\n",
    "\n",
    "Напишите программу, которая запрашивает у пользователя номер мобильного телефона, введенный через дефис, а возвращает номер, записанный без дефисов и пробелов.\n",
    "\n",
    "*Входные данные:*\n",
    "\n",
    "    8-900-123-45-67\n",
    "\n",
    "*Выходные данные:*\n",
    "\n",
    "    89001234567"
   ]
  },
  {
   "cell_type": "code",
   "execution_count": 3,
   "outputs": [
    {
     "name": "stdout",
     "output_type": "stream",
     "text": [
      "88005553535\n"
     ]
    }
   ],
   "source": [
    "print(\"\".join(input(\"Введите номер телефона через дефис\").split(\"-\")))"
   ],
   "metadata": {
    "collapsed": false
   }
  },
  {
   "cell_type": "markdown",
   "metadata": {},
   "source": [
    "### Задача 4\n",
    "\n",
    "Напишите программу, которая принимает на вход список L, в котором хранятся значения доходов домохозяйств за месяц, а возвращает новый список L2 ‒ список логарифмированных значений доходов."
   ]
  },
  {
   "cell_type": "code",
   "execution_count": 4,
   "outputs": [
    {
     "name": "stdout",
     "output_type": "stream",
     "text": [
      "[2.419478844465545, 8.580941963283932, 6.796187761907522, 8.08438465591054, 7.712185929821926]\n"
     ]
    }
   ],
   "source": [
    "from math import log1p\n",
    "\n",
    "start = [10.24, 5328.123, 893.431, 3242.4234, 2234.4234]\n",
    "print(list(map(log1p, start)))"
   ],
   "metadata": {
    "collapsed": false
   }
  },
  {
   "cell_type": "markdown",
   "metadata": {},
   "source": [
    "### Задача 5\n",
    "\n",
    "Напишите программу, которая принимает на вход список слов такого вида:\n",
    "\n",
    "    words = [\"Speak \",\"to\", \"me \", \"of\", \"Florence\" ,\"And \", \"of\", \"the\", \"Renaissance\"]\n",
    "\n",
    "а возвращает список\n",
    "\n",
    "    words_clean = [\"speak\", \"to\", \"me\", \"of\", \"florence\", \"and\", \"of\", \"the\", \"renaissance\"]\n",
    "\n",
    "Другими словами, программа убирает пробелы в словах и приводит все слова к нижнему регистру.\n",
    "\n",
    "**Подсказка:** запросите `help()`  по  методам `strip()` и `lower()`."
   ]
  },
  {
   "cell_type": "code",
   "execution_count": 5,
   "outputs": [
    {
     "name": "stdout",
     "output_type": "stream",
     "text": [
      "['speak ', 'to', 'me ', 'of', 'florence', 'and ', 'of', 'the', 'renaissance']\n"
     ]
    }
   ],
   "source": [
    "words = [\"Speak \",\"to\", \"me \", \"of\", \"Florence\" ,\"And \", \"of\", \"the\", \"Renaissance\"]\n",
    "print(list(map(lambda x: x.lower(), words)))"
   ],
   "metadata": {
    "collapsed": false
   }
  }
 ],
 "metadata": {
  "kernelspec": {
   "display_name": "Python 3",
   "language": "python",
   "name": "python3"
  },
  "language_info": {
   "codemirror_mode": {
    "name": "ipython",
    "version": 3
   },
   "file_extension": ".py",
   "mimetype": "text/x-python",
   "name": "python",
   "nbconvert_exporter": "python",
   "pygments_lexer": "ipython3",
   "version": "3.7.6"
  }
 },
 "nbformat": 4,
 "nbformat_minor": 2
}
