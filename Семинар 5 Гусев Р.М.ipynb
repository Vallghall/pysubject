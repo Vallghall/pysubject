{
 "cells": [
  {
   "cell_type": "markdown",
   "metadata": {},
   "source": [
    "# Семинар 5"
   ]
  },
  {
   "cell_type": "markdown",
   "metadata": {},
   "source": [
    "### Задача 1\n",
    "Напишите функцию `square()`, которая принимает на вход число и:\n",
    "\n",
    "* возвращает его квадрат;\n",
    "* выводит на экран сообщение вида \"Квадрат числа равен: n\" и ничего не возвращает;\n",
    "* выводит на экран сообщение вида \"Квадрат числа равен: n\" и возвращает квадрат числа;"
   ]
  },
  {
   "cell_type": "code",
   "execution_count": 24,
   "outputs": [
    {
     "name": "stdout",
     "output_type": "stream",
     "text": [
      "9\n",
      "16\n",
      "4\n"
     ]
    },
    {
     "data": {
      "text/plain": "4"
     },
     "execution_count": 24,
     "metadata": {},
     "output_type": "execute_result"
    }
   ],
   "source": [
    "def square(n: float) -> float:\n",
    "    return n ** 2\n",
    "\n",
    "def square_no_return(n: float) -> ():\n",
    "    print(n ** 2)\n",
    "\n",
    "def square_with_print(n: float) -> float:\n",
    "    n **= 2\n",
    "    print(n)\n",
    "    return n\n",
    "\n",
    "print(square(3))\n",
    "square_no_return(4)\n",
    "square_with_print(2)"
   ],
   "metadata": {
    "collapsed": false
   }
  },
  {
   "cell_type": "markdown",
   "metadata": {},
   "source": [
    "### Задача 2\n",
    "Напишите функцию `nums()`, которая принимает на вход целое число, а возвращает список из двух элементов: целое число, предшествующее принятому на вход, и число, следующее за ним.\n",
    "\n",
    "**Пример:**\n",
    "\n",
    "*Входные данные:*\n",
    "\n",
    "    7\n",
    "\n",
    "*Выходные данные:*\n",
    "\n",
    "    [6, 8]"
   ]
  },
  {
   "cell_type": "code",
   "execution_count": 25,
   "outputs": [
    {
     "name": "stdout",
     "output_type": "stream",
     "text": [
      "(8, 10)\n"
     ]
    }
   ],
   "source": [
    "def nums(n: int) -> (int, int):\n",
    "    return n - 1, n + 1\n",
    "\n",
    "print(nums(9))"
   ],
   "metadata": {
    "collapsed": false
   }
  },
  {
   "cell_type": "markdown",
   "metadata": {},
   "source": [
    "### Задача 3\n",
    "Напишите функцию `str_lower()`, которая принимает на вход строку (набор слов через пробел), а возвращает список ее элементов в нижнем регистре. \n",
    "\n",
    "**Пример:**\n",
    "\n",
    "*Входные данные:*\n",
    "\n",
    "    \"В лесу родилась ёлочка В лесу она росла\"\n",
    "\n",
    "*Выходные данные:*\n",
    "\n",
    "    ['в', 'лесу', 'родилась', 'ёлочка', 'в', 'лесу', 'она', 'росла']"
   ]
  },
  {
   "cell_type": "code",
   "execution_count": 26,
   "outputs": [
    {
     "name": "stdout",
     "output_type": "stream",
     "text": [
      "['в', 'лесу', 'родилась', 'ёлочка', 'в', 'лесу', 'она', 'росла']\n"
     ]
    }
   ],
   "source": [
    "def str_lower(s: str) -> list[str]:\n",
    "    return s.lower().split(\" \")\n",
    "\n",
    "print(str_lower(\"В лесу родилась ёлочка В лесу она росла\"))"
   ],
   "metadata": {
    "collapsed": false
   }
  },
  {
   "cell_type": "markdown",
   "metadata": {},
   "source": [
    "### Задача 4\n",
    "Напишите функцию `my_log()`, которая принимает на вход список чисел, и возвращает список их натуральных логарифмов. Если число меньше или равно 0, на его месте в возвращаемом списке должно быть None.\n",
    "\n",
    "**Пример:**\n",
    "\n",
    "*Входные данные:*\n",
    "\n",
    "    [1, 3, 2.5, -1, 9, 0, 2.71]\n",
    "\n",
    "*Выходные данные:*\n",
    "\n",
    "    [0.0,\n",
    "     1.0986122886681098,\n",
    "     0.9162907318741551,\n",
    "     None,\n",
    "     2.1972245773362196,\n",
    "     None,\n",
    "     0.9969486348916096]"
   ]
  },
  {
   "cell_type": "code",
   "execution_count": 27,
   "outputs": [
    {
     "name": "stdout",
     "output_type": "stream",
     "text": [
      "[0.6931471805599453, 1.3862943611198906, 1.252762968495368, None, 2.302585092994046, None, 1.3110318766193438]\n"
     ]
    }
   ],
   "source": [
    "def my_log(xs: list[float]) -> list[float]:\n",
    "    from math import log1p\n",
    "    return list(map(lambda x: log1p(x) if x > 0 else None, xs))\n",
    "\n",
    "print(my_log([1, 3, 2.5, -1, 9, 0, 2.71]))"
   ],
   "metadata": {
    "collapsed": false
   }
  },
  {
   "cell_type": "markdown",
   "metadata": {},
   "source": [
    "### Задача 5\n",
    "Напишите функцию, которая принимает на вход два списка (имена людей и их возраст) и делает следующее:\n",
    "\n",
    "* если эти два списка имеют одинаковую длину, то возвращает словарь с парами имя-возраст;\n",
    "\n",
    "* если эти два списка имеют разную длину, то функция выводит на экран сообщение \"Списки имеют разную длину\" и возвращает пустой словарь.\n",
    "\n",
    "**Пример:**\n",
    "\n",
    "*Входные данные:*\n",
    "\n",
    "    [\"Ann\", \"Tim\", \"Sam\"]\n",
    "    [12, 23, 17]\n",
    "\n",
    "*Выходные данные:*\n",
    "\n",
    "    {\"Ann\": 12, \"Tim\": 23, \"Sam\": 17}\n",
    "\n",
    "*Входные данные:*\n",
    "\n",
    "    [\"Ann\", \"Tim\", \"Sam\"]\n",
    "    [12, 23, 17, 45]\n",
    "\n",
    "*Выходные данные:*\n",
    "    \n",
    "    Списки имеют разную длину\n",
    "    {}"
   ]
  },
  {
   "cell_type": "code",
   "execution_count": 28,
   "outputs": [
    {
     "data": {
      "text/plain": "{'Ann': 12, 'Tim': 23, 'Sam': 17}"
     },
     "execution_count": 28,
     "metadata": {},
     "output_type": "execute_result"
    }
   ],
   "source": [
    "def people(names: list[str], ages: list[int]) -> dict[str:int]:\n",
    "    res = {}\n",
    "    if len(names) != len(ages):\n",
    "        print(\"Списки имеют разную длину\")\n",
    "        return res\n",
    "\n",
    "    for i in range(0, len(names)):\n",
    "        res.setdefault(names[i], ages[i])\n",
    "\n",
    "    return res\n",
    "\n",
    "people([\"Ann\", \"Tim\", \"Sam\"], [12, 23, 17])"
   ],
   "metadata": {
    "collapsed": false
   }
  },
  {
   "cell_type": "markdown",
   "metadata": {},
   "source": [
    "### Задача 6\n",
    "\n",
    "Напишите функцию `binom_prob()`, которая считает вероятность того, что проведя `n` испытаний Бернулли с вероятностью успеха `p`, мы получим ровно `k` успехов. Эта функция принимает на вход три аргумента: `p`, `n` и `k` и возвращает такой результат:\n",
    "\n",
    "$P(X = k) = С_n^k \\cdot p^k \\cdot (1-p)^{n-k}$\n",
    "\n",
    "Для расчета биномиального коэффициента можно использовать функцию, написанную на лекции."
   ]
  },
  {
   "cell_type": "code",
   "execution_count": 29,
   "outputs": [],
   "source": [
    "def factorial(n: int) -> int:\n",
    "    f = 1\n",
    "    for i in range(2, n):\n",
    "        f *= i\n",
    "\n",
    "    return f\n",
    "\n",
    "def binom(k: int, n: int) -> int:\n",
    "    return factorial(n)//(factorial(k)*factorial(n-k))\n",
    "\n",
    "def binom_prob(k: int, n: int, p: int) -> float:\n",
    "    return binom(k,n) * p**k * (1 - p) ** (n - k)"
   ],
   "metadata": {
    "collapsed": false
   }
  },
  {
   "cell_type": "markdown",
   "metadata": {},
   "source": [
    "### Задача 7\n",
    "\n",
    "Напишите функцию `all_sort()`, которая принимает на вход перечень целых чисел через запятую (не список, а просто сколько угодно значений через запятую) и возвращает список этих значений, отсортированный по возрастанию.\n",
    "\n",
    "**Пример:**\n",
    "\n",
    "*Входные данные:*\n",
    "\n",
    "    7, 6, 1, 3, 8, 0, -2\n",
    "\n",
    "*Выходные данные:*\n",
    "\n",
    "    [-2, 0, 1, 3, 6, 7, 8]"
   ]
  },
  {
   "cell_type": "code",
   "execution_count": 30,
   "outputs": [
    {
     "name": "stdout",
     "output_type": "stream",
     "text": [
      "[-2, 0, 1, 3, 6, 7, 8]\n"
     ]
    }
   ],
   "source": [
    "def sort(*nums: int) -> list[int]:\n",
    "    return sorted(list(nums))\n",
    "\n",
    "print(sort(7, 6, 1, 3, 8, 0, -2))"
   ],
   "metadata": {
    "collapsed": false
   }
  }
 ],
 "metadata": {
  "kernelspec": {
   "display_name": "Python 3",
   "language": "python",
   "name": "python3"
  },
  "language_info": {
   "codemirror_mode": {
    "name": "ipython",
    "version": 3
   },
   "file_extension": ".py",
   "mimetype": "text/x-python",
   "name": "python",
   "nbconvert_exporter": "python",
   "pygments_lexer": "ipython3",
   "version": "3.7.6"
  }
 },
 "nbformat": 4,
 "nbformat_minor": 2
}
