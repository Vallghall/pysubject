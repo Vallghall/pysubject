{
 "cells": [
  {
   "cell_type": "markdown",
   "metadata": {},
   "source": [
    "# Семинар 6. Lambda-функции"
   ]
  },
  {
   "cell_type": "markdown",
   "metadata": {},
   "source": [
    "### Задача № 1\n",
    "Умножьте все элементы списка [12, 24, 36, 48, 109, 187] на (номер вашего варианта + 7). Нужно перебрать все элементы при помощи цикла и умножить их.\n",
    "\n",
    "    А. Написать пользовательскую функцию для умножения числа и применить ее при помощи функции map() ко всему списку\n",
    "    В. Решить эту задачу используя lambda-функцию для умножения числа и применить ее при помощи функции map() ко всему списку."
   ]
  },
  {
   "cell_type": "code",
   "execution_count": 48,
   "outputs": [
    {
     "name": "stdout",
     "output_type": "stream",
     "text": [
      "from ordinary func: [156, 312, 468, 624, 1417, 2431]\n",
      "from lambda func: [156, 312, 468, 624, 1417, 2431]\n"
     ]
    }
   ],
   "source": [
    "xs = [12, 24, 36, 48, 109, 187]\n",
    "variant = 6\n",
    "\n",
    "def mul(n: int) -> int:\n",
    "    return n * (variant + 7)\n",
    "\n",
    "out1 = list(map(mul, xs))\n",
    "out2 = list(map(lambda x: x * (variant + 7), xs))\n",
    "\n",
    "print(f\"from ordinary func: {out1}\\nfrom lambda func: {out2}\")"
   ],
   "metadata": {
    "collapsed": false
   }
  },
  {
   "cell_type": "markdown",
   "metadata": {},
   "source": [
    "##### Примечание:\n",
    "    Python map() — это встроенная функция, которая позволяет обрабатывать и преобразовывать все элементы в итерируемом объекте без использования явного цикла for, методом, широко известным как сопоставление (mapping). map() полезен, когда вам нужно применить функцию преобразования к каждому элементу в коллекции или в массиве и преобразовать их в новый массив."
   ]
  },
  {
   "cell_type": "markdown",
   "metadata": {},
   "source": [
    "### Задача № 2\n",
    "Составьте 2 списка чисел из своего и любого другого мобильного номера телефона. Нужно получить новый список, состоящий из элементов, равных произведению соответствующих элементов первоначальных списков. Решить эту задачу при помощи функции map() и lambda-функции."
   ]
  },
  {
   "cell_type": "code",
   "execution_count": 49,
   "outputs": [
    {
     "name": "stdout",
     "output_type": "stream",
     "text": [
      "[8, 9, 9, 9, 8, 0, 1, 2, 4, 6, 8]\n",
      "[8, 8, 0, 0, 5, 5, 5, 3, 5, 3, 5]\n",
      "[64, 72, 0, 0, 40, 0, 5, 6, 20, 18, 40]\n"
     ]
    }
   ],
   "source": [
    "my = [8,9,9,9,8,0,1,2,4,6,8]\n",
    "not_my = [8,8,0,0,5,5,5,3,5,3,5]\n",
    "print(f\"{my}\\n{not_my}\")\n",
    "out = list(map(lambda i: my[i] * not_my[i], range(0,len(my))))\n",
    "print(out)"
   ],
   "metadata": {
    "collapsed": false
   }
  },
  {
   "cell_type": "markdown",
   "metadata": {},
   "source": [
    "### Задача № 3\n",
    "Создайте список чисел и цифр вашего номера телефона, каждая цифра должна быть умножена на ваш номер варианта. Нужно получить новые списки, состоящие из четных (первый список) и нечётных (второй список) элементов данного списка. Решить эту задачу при помощи функции filter() и lambda-функции."
   ]
  },
  {
   "cell_type": "code",
   "execution_count": 50,
   "outputs": [
    {
     "name": "stdout",
     "output_type": "stream",
     "text": [
      "[48, 54, 54, 54, 48, 0, 6, 12, 24, 36, 48]\n",
      "odds: []\n",
      "evens:[48, 54, 54, 54, 48, 0, 6, 12, 24, 36, 48]\n"
     ]
    }
   ],
   "source": [
    "inp = list(map(lambda x: x * variant, my))\n",
    "print(inp)\n",
    "odds = list(filter(lambda n: n & 1 == 1, inp))\n",
    "evens = list(filter(lambda n: n & 1 == 0, inp))\n",
    "print(f\"odds: {odds}\\nevens:{evens}\")"
   ],
   "metadata": {
    "collapsed": false
   }
  },
  {
   "cell_type": "markdown",
   "metadata": {},
   "source": [
    "##### Примечание:\n",
    "    Функция filter() используется для фильтрации элементов (отбор элементов, удовлетворяющих определенному правилу), принимает два аргумента: функцию и итерируемую последовательность, которую нужно отфильтровать. Важным моментом является то, что функция, передаваемая в качестве аргумента, должна возвращать True или False. "
   ]
  },
  {
   "cell_type": "markdown",
   "metadata": {},
   "source": [
    "### Задача № 3\n",
    "Создайте список чисел вашего номера телефона, каждая цифра должна быть поделена на ваш номер варианта. Все числа заданы в строковом типе данных.\n",
    "\n",
    "    а) применить целочисленное деление\n",
    "    в) применить дробное деление\n",
    "    \n",
    " Нужно получить точно такой же список, но все числа в нем должны храниться уже в числовом формате. Решить эту задачу используя lambda-функцию"
   ]
  },
  {
   "cell_type": "code",
   "execution_count": 51,
   "metadata": {},
   "outputs": [
    {
     "name": "stdout",
     "output_type": "stream",
     "text": [
      "['8', '9', '9', '9', '8', '0', '1', '2', '4', '6', '8']\n",
      "[4.0, 4.0, 4.0, 4.0, 4.0, 0.0, 0.0, 1.0, 2.0, 3.0, 4.0]\n",
      "[4.0, 4.5, 4.5, 4.5, 4.0, 0.0, 0.5, 1.0, 2.0, 3.0, 4.0]\n"
     ]
    }
   ],
   "source": [
    "inp = list(map(str, my))\n",
    "print(inp)\n",
    "out1 = list(map(lambda x: float(x) // 2, inp))\n",
    "out2 = list(map(lambda x: int(x) / 2, inp))\n",
    "print(f\"{out1}\\n{out2}\")"
   ]
  }
 ],
 "metadata": {
  "kernelspec": {
   "display_name": "Python 3",
   "language": "python",
   "name": "python3"
  },
  "language_info": {
   "codemirror_mode": {
    "name": "ipython",
    "version": 3
   },
   "file_extension": ".py",
   "mimetype": "text/x-python",
   "name": "python",
   "nbconvert_exporter": "python",
   "pygments_lexer": "ipython3",
   "version": "3.7.6"
  }
 },
 "nbformat": 4,
 "nbformat_minor": 4
}
